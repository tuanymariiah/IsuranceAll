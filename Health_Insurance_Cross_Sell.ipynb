{
  "nbformat": 4,
  "nbformat_minor": 0,
  "metadata": {
    "accelerator": "GPU",
    "colab": {
      "name": "Health Insurance Cross-Sell.ipynb",
      "provenance": [],
      "collapsed_sections": [
        "bsAcH3SO_M-Y",
        "jh7QoVbwJPFZ",
        "X7hABePgKpjd",
        "eBJyTXnqMtKr",
        "iDgjVGyyREge",
        "PfMG7Pn8WZpY",
        "6SZ0BWW5Wlfz"
      ],
      "mount_file_id": "12cryW1OlCWZqnwtXQlEbFZP6QrXfMD6A",
      "authorship_tag": "ABX9TyNgdbXQWDtfr8JCueqZW3tc",
      "include_colab_link": true
    },
    "kernelspec": {
      "display_name": "Python 3",
      "name": "python3"
    },
    "language_info": {
      "name": "python"
    }
  },
  "cells": [
    {
      "cell_type": "markdown",
      "metadata": {
        "id": "view-in-github",
        "colab_type": "text"
      },
      "source": [
        "<a href=\"https://colab.research.google.com/github/tuanymariiah/IsuranceAll/blob/main/Health_Insurance_Cross_Sell.ipynb\" target=\"_parent\"><img src=\"https://colab.research.google.com/assets/colab-badge.svg\" alt=\"Open In Colab\"/></a>"
      ]
    },
    {
      "cell_type": "markdown",
      "metadata": {
        "id": "Lxi1FaIqoLMi"
      },
      "source": [
        "#Instalação das Bibliotecas"
      ]
    },
    {
      "cell_type": "code",
      "metadata": {
        "colab": {
          "base_uri": "https://localhost:8080/"
        },
        "id": "Z4SWLa-On4ye",
        "outputId": "fe6805b8-080a-4405-e7bd-2b6757940584"
      },
      "source": [
        "!pip install psycopg2-binary\n",
        "!pip install scikit-plot"
      ],
      "execution_count": 1,
      "outputs": [
        {
          "output_type": "stream",
          "name": "stdout",
          "text": [
            "Requirement already satisfied: psycopg2-binary in /usr/local/lib/python3.7/dist-packages (2.9.2)\n",
            "Requirement already satisfied: scikit-plot in /usr/local/lib/python3.7/dist-packages (0.3.7)\n",
            "Requirement already satisfied: scipy>=0.9 in /usr/local/lib/python3.7/dist-packages (from scikit-plot) (1.4.1)\n",
            "Requirement already satisfied: matplotlib>=1.4.0 in /usr/local/lib/python3.7/dist-packages (from scikit-plot) (3.2.2)\n",
            "Requirement already satisfied: joblib>=0.10 in /usr/local/lib/python3.7/dist-packages (from scikit-plot) (1.1.0)\n",
            "Requirement already satisfied: scikit-learn>=0.18 in /usr/local/lib/python3.7/dist-packages (from scikit-plot) (0.22.2.post1)\n",
            "Requirement already satisfied: python-dateutil>=2.1 in /usr/local/lib/python3.7/dist-packages (from matplotlib>=1.4.0->scikit-plot) (2.8.2)\n",
            "Requirement already satisfied: cycler>=0.10 in /usr/local/lib/python3.7/dist-packages (from matplotlib>=1.4.0->scikit-plot) (0.11.0)\n",
            "Requirement already satisfied: pyparsing!=2.0.4,!=2.1.2,!=2.1.6,>=2.0.1 in /usr/local/lib/python3.7/dist-packages (from matplotlib>=1.4.0->scikit-plot) (2.4.7)\n",
            "Requirement already satisfied: numpy>=1.11 in /usr/local/lib/python3.7/dist-packages (from matplotlib>=1.4.0->scikit-plot) (1.19.5)\n",
            "Requirement already satisfied: kiwisolver>=1.0.1 in /usr/local/lib/python3.7/dist-packages (from matplotlib>=1.4.0->scikit-plot) (1.3.2)\n",
            "Requirement already satisfied: six>=1.5 in /usr/local/lib/python3.7/dist-packages (from python-dateutil>=2.1->matplotlib>=1.4.0->scikit-plot) (1.15.0)\n"
          ]
        }
      ]
    },
    {
      "cell_type": "markdown",
      "metadata": {
        "id": "y8yJMwkCnGu4"
      },
      "source": [
        "# Importação das Bibliotecas"
      ]
    },
    {
      "cell_type": "code",
      "metadata": {
        "id": "zZ4Sf5ytk9KQ"
      },
      "source": [
        "#importacao das bibliotecas a serem utilizadas  \n",
        "import numpy             as np\n",
        "import pandas            as pd\n",
        "import psycopg2          as pg\n",
        "import seaborn           as sns\n",
        "import matplotlib.pyplot as plt\n",
        "import xgboost           as xgb\n",
        "import pandas.io.sql     as psql\n",
        "import scikitplot        as skplt\n",
        "\n",
        "import warnings\n",
        "import tabulate\n",
        "import random\n",
        "import pickle\n",
        "import flask\n",
        "\n",
        "from sklearn.ensemble     import RandomForestClassifier\n",
        "from sklearn.naive_bayes  import GaussianNB\n",
        "from scipy   import stats\n",
        "\n",
        "from sklearn import preprocessing   as pp\n",
        "from sklearn import model_selection as ms\n",
        "from sklearn import ensemble        as en\n",
        "from sklearn import neighbors       as nh\n",
        "from sklearn import linear_model    as lm\n",
        "from sklearn import metrics         as m\n",
        "from scipy   import stats           as ss"
      ],
      "execution_count": 2,
      "outputs": []
    },
    {
      "cell_type": "markdown",
      "metadata": {
        "id": "1-U0dT3Ljc04"
      },
      "source": [
        "#Funções"
      ]
    },
    {
      "cell_type": "code",
      "metadata": {
        "id": "Tqx8TV63jfPk"
      },
      "source": [
        "def precision_at_k(data, y, pred, k=20000):\n",
        "    \n",
        "\n",
        "    data['response'] = y.copy()\n",
        "    data['score'] = pred[:, 1].tolist()\n",
        "    # sort clients by propensity score\n",
        "    data = data.sort_values('score', ascending=False)\n",
        "    data = data.reset_index(drop=True)\n",
        "    # create ranking order\n",
        "    data['ranking'] = data.index + 1\n",
        "    # precision\n",
        "    data['precision_at_k'] = data['response'].cumsum()/data['ranking']\n",
        "                            \n",
        "    return data.loc[k, 'precision_at_k']\n",
        "\n",
        "\n",
        "def recall_at_k(data, y, pred, k=20000):\n",
        "    \n",
        "\n",
        "    data['response'] = y.copy()\n",
        "    data['score'] = pred[:, 1].tolist()\n",
        "    # sort clients by propensity score\n",
        "    data = data.sort_values('score', ascending=False)\n",
        "    data = data.reset_index(drop=True)\n",
        "    # create ranking order\n",
        "    data['ranking'] = data.index + 1\n",
        "    # recall\n",
        "    data['recall_at_k'] = data['response'].cumsum()/data['response'].sum()\n",
        "                            \n",
        "    return data.loc[k, 'recall_at_k']\n",
        "\n",
        "\n",
        "def metrics_at_k(data, y, pred, model_name, k=20000):\n",
        "         \n",
        "    data['response'] = y.copy()\n",
        "    data['score'] = pred[:, 1].tolist()\n",
        "    # sort clients by propensity score\n",
        "    data = data.sort_values('score', ascending=False)\n",
        "    data = data.reset_index(drop=True)\n",
        "    # create ranking order\n",
        "    data['ranking'] = data.index + 1\n",
        "\n",
        "    # precision\n",
        "    data['precision_at_k'] = data['response'].cumsum()/data['ranking']\n",
        "    # recall\n",
        "    data['recall_at_k'] = data['response'].cumsum()/data['response'].sum()\n",
        "                            \n",
        "    return pd.DataFrame({'Precision_at_k':data.loc[k, 'precision_at_k'],\n",
        "                        'Recall_at_k':data.loc[k, 'recall_at_k']}, index=[model_name])\n",
        "\n",
        "\n",
        "def cramer_v(x,y):\n",
        "    cm = pd.crosstab(x,y).values\n",
        "    n = cm.sum()\n",
        "    r,k = cm.shape\n",
        "    \n",
        "    chi2 = stats.chi2_contingency(cm)[0]\n",
        "    chi2corr = max(0, chi2 - (k-1)*(r-1)/(n-1))\n",
        "    \n",
        "    kcorr = k - (k-1)**2/(n-1)\n",
        "    rcorr = r - (r-1)**2/(n-1)\n",
        "    \n",
        "    return np.sqrt((chi2corr/n) / (min(kcorr-1, rcorr-1)))\n",
        "\n",
        "def cross_validation(kfold, modelName, model, data, at_k):\n",
        "    # Number of folds\n",
        "    fold=ms.StratifiedKFold(n_splits = kfold, shuffle=True, random_state=42)\n",
        "    \n",
        "    # Performance variables\n",
        "    precision_list = []\n",
        "    recall_list = []\n",
        "    cv_performance = {}\n",
        "    \n",
        "    for train_cv,val_cv in fold.split(data, data['response']):\n",
        "        \n",
        "        # Separating train and validation dataset for each kfold\n",
        "        # training data\n",
        "        x_train_fold = data.iloc[train_cv]\n",
        "        x_train_fold = x_train_fold[cols_selected]\n",
        "        \n",
        "        y_train_fold = data['response'].iloc[train_cv]\n",
        "        \n",
        "        # validation data\n",
        "        x_val_fold = data.iloc[val_cv]\n",
        "        x_val_fold = x_val_fold[cols_selected]\n",
        "        \n",
        "        y_val_fold = data['response'].iloc[val_cv]\n",
        "        \n",
        "        # fitting the model\n",
        "        model_fitted = model.fit(x_train_fold,y_train_fold)\n",
        "        \n",
        "        # getting the prediction probability\n",
        "        x_val_fold['response'] = y_val_fold\n",
        "        val_scored = prediction_score(model_fitted, x_val_fold)\n",
        "        \n",
        "        # Getting precision and recall at k\n",
        "        precision = val_scored.loc[at_k, 'precision_at_k']\n",
        "        recall = val_scored.loc[at_k, 'recall_at_k']\n",
        "        \n",
        "        precision_list.append(precision)\n",
        "        recall_list.append(recall)\n",
        "        \n",
        "    # calculating the mean and std performance of all kfolds\n",
        "    precision_cv = np.round(np.mean(precision_list),4).astype(float)\n",
        "    std_precision_cv = '+/-' + np.round(np.std(precision_list),4).astype(str)\n",
        "    recall_cv = np.round(np.mean(recall_list),4).astype(float)\n",
        "    std_recall_cv = ' +/- ' + np.round(np.std(recall_list),4).astype(str)\n",
        "        \n",
        "    cv_performance[modelName] = [precision_cv, std_precision_cv, recall_cv, std_recall_cv]\n",
        "    model_performance_cv = pd.DataFrame(cv_performance, index=['precision_at_k', 'std_precision', 'recall_at_k', 'std_recall'])\n",
        "\n",
        "    return model_performance_cv\n",
        "def frequency_encoding(df, column):\n",
        "    encoder = df.groupby(column).size()/len(df)\n",
        "    return encoder\n",
        "\n",
        "def prediction_score(model, data):\n",
        "    # Separating train and validation dataset for each kfold\n",
        "    x_train = data.drop(columns=['response'])\n",
        "    y_train = data['response']\n",
        "    \n",
        "    # prediction probability (score)\n",
        "    yhat_proba = model.predict_proba(x_train)[:, 1].tolist()\n",
        "    \n",
        "    # merging score to dataset\n",
        "    data_scored = data.copy()\n",
        "    data_scored['score'] = yhat_proba\n",
        "    \n",
        "    # sort\n",
        "    data_scored = data_scored.sort_values('score', ascending=False)\n",
        "    \n",
        "    # precision and recall\n",
        "    data_scored = data_scored.reset_index(drop=True)\n",
        "    data_scored['n_samples'] = data_scored.index + 1\n",
        "    data_scored['precision_at_k'] = data_scored['response'].cumsum() / data_scored['n_samples']\n",
        "    data_scored['recall_at_k'] = data_scored['response'].cumsum() / data_scored['response'].sum()\n",
        "    \n",
        "    return data_scored\n"
      ],
      "execution_count": 3,
      "outputs": []
    },
    {
      "cell_type": "markdown",
      "metadata": {
        "id": "SR10p4djsY3Z"
      },
      "source": [
        "# Carrega dados direto da AWS com pandas"
      ]
    },
    {
      "cell_type": "code",
      "metadata": {
        "id": "4aIAd8HAnLf0",
        "colab": {
          "base_uri": "https://localhost:8080/",
          "height": 86
        },
        "outputId": "e7183466-f3df-41ac-b4ca-da91c8043fef"
      },
      "source": [
        "'''\n",
        "host =  'XXXXXX'\n",
        "port = 5432\n",
        "database = 'XXXXXX' \n",
        "pwd = 'XXXXXX'\n",
        "username = 'XXXXXX'\n",
        "conn = pg.connect(user = username,\n",
        "                  password = pwd,\n",
        "                  host = host,\n",
        "                  port = port,\n",
        "                  database = database)\n",
        "\n",
        "query = 'SELECT * FROM pa004.users u LEFT JOIN pa004.vehicle v ON (u.id = v.id) LEFT JOIN PA004.insurance i ON (u.id = i.id) WHERE U.age > 44'\n",
        "df = pd.read_sql(query, conn)\n",
        "'''"
      ],
      "execution_count": 4,
      "outputs": [
        {
          "output_type": "execute_result",
          "data": {
            "application/vnd.google.colaboratory.intrinsic+json": {
              "type": "string"
            },
            "text/plain": [
              "\"\\nhost =  'XXXXXX'\\nport = 5432\\ndatabase = 'XXXXXX' \\npwd = 'XXXXXX'\\nusername = 'XXXXXX'\\nconn = pg.connect(user = username,\\n                  password = pwd,\\n                  host = host,\\n                  port = port,\\n                  database = database)\\n\\nquery = 'SELECT * FROM pa004.users u LEFT JOIN pa004.vehicle v ON (u.id = v.id) LEFT JOIN PA004.insurance i ON (u.id = i.id) WHERE U.age > 44'\\ndf = pd.read_sql(query, conn)\\n\""
            ]
          },
          "metadata": {},
          "execution_count": 4
        }
      ]
    },
    {
      "cell_type": "code",
      "metadata": {
        "id": "AnDbhdh6r_AU"
      },
      "source": [
        "#df = df.loc[:,~df.columns.duplicated()] #retira as colunas duplicadas\n"
      ],
      "execution_count": 5,
      "outputs": []
    },
    {
      "cell_type": "markdown",
      "metadata": {
        "id": "eNlQFDresE--"
      },
      "source": [
        "#Salva os dados para serem usados posteriormente"
      ]
    },
    {
      "cell_type": "code",
      "metadata": {
        "id": "ONbkNXxssKEJ"
      },
      "source": [
        "#df.to_csv('/content/drive/MyDrive/Projetos Pessoais/comunidade ds/[PA004]/dataset/train2.csv', index=False)"
      ],
      "execution_count": 6,
      "outputs": []
    },
    {
      "cell_type": "markdown",
      "metadata": {
        "id": "GemF9eP32cMU"
      },
      "source": [
        "#Carrega os dados direto do pandas"
      ]
    },
    {
      "cell_type": "code",
      "metadata": {
        "id": "NqLUCKM0s645"
      },
      "source": [
        "df = pd.read_csv('/content/drive/MyDrive/Projetos Pessoais/comunidade ds/[PA004]/dataset/train2.csv')"
      ],
      "execution_count": 7,
      "outputs": []
    },
    {
      "cell_type": "markdown",
      "metadata": {
        "id": "o_wbSc3a25nA"
      },
      "source": [
        "# Data Description"
      ]
    },
    {
      "cell_type": "code",
      "metadata": {
        "id": "Q0GTIVsx4P_N"
      },
      "source": [
        "df1 = df.copy()\n",
        "new_cols = ['id', 'gender', 'age', 'driving_license', 'region_code',\n",
        "       'previously_insured', 'vehicle_age', 'vehicle_damage', 'annual_premium',\n",
        "       'policy_sales_channel', 'vintage', 'response']\n",
        "df1.columns = new_cols"
      ],
      "execution_count": 8,
      "outputs": []
    },
    {
      "cell_type": "markdown",
      "metadata": {
        "id": "q_fNi4re2-cy"
      },
      "source": [
        "## Data dimension"
      ]
    },
    {
      "cell_type": "code",
      "metadata": {
        "colab": {
          "base_uri": "https://localhost:8080/"
        },
        "id": "OWypKQP547Tw",
        "outputId": "d8ebb03e-9237-4f91-bbb1-b87886a6f07a"
      },
      "source": [
        "print(f'Number of Rows {df1.shape[0]}\\nNumber of cols {df1.shape[1]}')"
      ],
      "execution_count": 9,
      "outputs": [
        {
          "output_type": "stream",
          "name": "stdout",
          "text": [
            "Number of Rows 131948\n",
            "Number of cols 12\n"
          ]
        }
      ]
    },
    {
      "cell_type": "markdown",
      "metadata": {
        "id": "EfAAZbb33Fr2"
      },
      "source": [
        "## Data Types"
      ]
    },
    {
      "cell_type": "code",
      "metadata": {
        "colab": {
          "base_uri": "https://localhost:8080/"
        },
        "id": "tzyxE-KR5Vzy",
        "outputId": "271eed1e-b3da-40b6-ac8e-ef04c5c73b67"
      },
      "source": [
        "df1.dtypes"
      ],
      "execution_count": 10,
      "outputs": [
        {
          "output_type": "execute_result",
          "data": {
            "text/plain": [
              "id                        int64\n",
              "gender                   object\n",
              "age                       int64\n",
              "driving_license         float64\n",
              "region_code             float64\n",
              "previously_insured        int64\n",
              "vehicle_age              object\n",
              "vehicle_damage           object\n",
              "annual_premium            int64\n",
              "policy_sales_channel    float64\n",
              "vintage                   int64\n",
              "response                  int64\n",
              "dtype: object"
            ]
          },
          "metadata": {},
          "execution_count": 10
        }
      ]
    },
    {
      "cell_type": "markdown",
      "metadata": {
        "id": "znSrFYBs3K8Y"
      },
      "source": [
        "## Check NA"
      ]
    },
    {
      "cell_type": "code",
      "metadata": {
        "colab": {
          "base_uri": "https://localhost:8080/"
        },
        "id": "emuDs-os5ZmX",
        "outputId": "eb2c153b-5083-455d-9de9-cda4e8c2ef7e"
      },
      "source": [
        "df1.isna().sum()"
      ],
      "execution_count": 11,
      "outputs": [
        {
          "output_type": "execute_result",
          "data": {
            "text/plain": [
              "id                      0\n",
              "gender                  0\n",
              "age                     0\n",
              "driving_license         0\n",
              "region_code             0\n",
              "previously_insured      0\n",
              "vehicle_age             0\n",
              "vehicle_damage          0\n",
              "annual_premium          0\n",
              "policy_sales_channel    0\n",
              "vintage                 0\n",
              "response                0\n",
              "dtype: int64"
            ]
          },
          "metadata": {},
          "execution_count": 11
        }
      ]
    },
    {
      "cell_type": "markdown",
      "metadata": {
        "id": "hDCFfQI3uu7D"
      },
      "source": [
        "## Features Description\n",
        "\n",
        "1. **id**: Customer identifier\n",
        "2. **gender**: Gender of customer\n",
        "3. **age**: Age of customer\n",
        "4. **region_code**: Region code of customer\n",
        "5. **policy_sales_channel**: anonymous code for contact with customer.\n",
        "6. **previously_insured**: 0 if customer does not have a vehicle insurance; 1 if customer already has a vehicle insurance.\n",
        "7. **annual_premium**: amount paid for health insurance to the company anualy.\n",
        "8. **vintage**: time (in days) that customer bought his health assurance.\n",
        "9. **driving_license**: 0 if customer does not have the permission for drive; 1 if customer has the permission for driveRegion\n",
        "10. **vehicle_age**: Age of vehicle\n",
        "11. **vehicle_damage**: 0 if customer never got involved in a previous vehicle * damage; 1 if customer already had a vehicle damage\n",
        "12 **response**: 0 if customer has no interest in product; 1 if customer has interest in product"
      ]
    },
    {
      "cell_type": "markdown",
      "metadata": {
        "id": "0hUdBm4c7VB6"
      },
      "source": [
        "## Data Descriptive\n"
      ]
    },
    {
      "cell_type": "code",
      "metadata": {
        "colab": {
          "base_uri": "https://localhost:8080/",
          "height": 328
        },
        "id": "Dg0b7iVA7aBJ",
        "outputId": "4f3f11b0-61a6-4eba-f1dc-72e2d994350b"
      },
      "source": [
        "num_attributes = df1.select_dtypes( include=['int64', 'float64'] )\n",
        "cat_attributes = df1.select_dtypes( exclude=['int64', 'float64','datetime64[ns]'] )\n",
        "\n",
        "# Central Tendency - mean, meadina\n",
        "ct1 = pd.DataFrame( num_attributes.apply( np.mean ) ).T\n",
        "ct2 = pd.DataFrame( num_attributes.apply( np.median ) ).T\n",
        "# dispersion - std, min, max, range, skew, kurtosis\n",
        "d1 = pd.DataFrame( num_attributes.apply( np.std ) ).T\n",
        "d2 = pd.DataFrame( num_attributes.apply( min ) ).T\n",
        "d3 = pd.DataFrame( num_attributes.apply( max ) ).T\n",
        "d4 = pd.DataFrame( num_attributes.apply( lambda x: x.max() - x.min() ) ).T\n",
        "d5 = pd.DataFrame( num_attributes.apply( lambda x: x.skew() ) ).T\n",
        "d6 = pd.DataFrame( num_attributes.apply( lambda x: x.kurtosis() ) ).T\n",
        "\n",
        "m = pd.concat( [d2, d3, d4, ct1, ct2, d1, d5, d6] ).T.reset_index()\n",
        "m.columns = ['attributes', 'min', 'max', 'range', 'mean', 'median', 'std','skew', 'kurtosis']\n",
        "m"
      ],
      "execution_count": 12,
      "outputs": [
        {
          "output_type": "execute_result",
          "data": {
            "text/html": [
              "<div>\n",
              "<style scoped>\n",
              "    .dataframe tbody tr th:only-of-type {\n",
              "        vertical-align: middle;\n",
              "    }\n",
              "\n",
              "    .dataframe tbody tr th {\n",
              "        vertical-align: top;\n",
              "    }\n",
              "\n",
              "    .dataframe thead th {\n",
              "        text-align: right;\n",
              "    }\n",
              "</style>\n",
              "<table border=\"1\" class=\"dataframe\">\n",
              "  <thead>\n",
              "    <tr style=\"text-align: right;\">\n",
              "      <th></th>\n",
              "      <th>attributes</th>\n",
              "      <th>min</th>\n",
              "      <th>max</th>\n",
              "      <th>range</th>\n",
              "      <th>mean</th>\n",
              "      <th>median</th>\n",
              "      <th>std</th>\n",
              "      <th>skew</th>\n",
              "      <th>kurtosis</th>\n",
              "    </tr>\n",
              "  </thead>\n",
              "  <tbody>\n",
              "    <tr>\n",
              "      <th>0</th>\n",
              "      <td>id</td>\n",
              "      <td>2.0</td>\n",
              "      <td>381109.0</td>\n",
              "      <td>381107.0</td>\n",
              "      <td>190677.571816</td>\n",
              "      <td>190690.5</td>\n",
              "      <td>110092.779601</td>\n",
              "      <td>-0.000368</td>\n",
              "      <td>-1.201831</td>\n",
              "    </tr>\n",
              "    <tr>\n",
              "      <th>1</th>\n",
              "      <td>age</td>\n",
              "      <td>45.0</td>\n",
              "      <td>85.0</td>\n",
              "      <td>40.0</td>\n",
              "      <td>56.939635</td>\n",
              "      <td>55.0</td>\n",
              "      <td>9.469115</td>\n",
              "      <td>0.640036</td>\n",
              "      <td>-0.649460</td>\n",
              "    </tr>\n",
              "    <tr>\n",
              "      <th>2</th>\n",
              "      <td>driving_license</td>\n",
              "      <td>0.0</td>\n",
              "      <td>52.0</td>\n",
              "      <td>52.0</td>\n",
              "      <td>26.985388</td>\n",
              "      <td>28.0</td>\n",
              "      <td>12.310347</td>\n",
              "      <td>-0.209233</td>\n",
              "      <td>-0.407361</td>\n",
              "    </tr>\n",
              "    <tr>\n",
              "      <th>3</th>\n",
              "      <td>region_code</td>\n",
              "      <td>1.0</td>\n",
              "      <td>163.0</td>\n",
              "      <td>162.0</td>\n",
              "      <td>74.217237</td>\n",
              "      <td>30.0</td>\n",
              "      <td>53.440006</td>\n",
              "      <td>0.200884</td>\n",
              "      <td>-1.768637</td>\n",
              "    </tr>\n",
              "    <tr>\n",
              "      <th>4</th>\n",
              "      <td>previously_insured</td>\n",
              "      <td>0.0</td>\n",
              "      <td>1.0</td>\n",
              "      <td>1.0</td>\n",
              "      <td>0.994096</td>\n",
              "      <td>1.0</td>\n",
              "      <td>0.076609</td>\n",
              "      <td>-12.899263</td>\n",
              "      <td>164.393472</td>\n",
              "    </tr>\n",
              "    <tr>\n",
              "      <th>5</th>\n",
              "      <td>annual_premium</td>\n",
              "      <td>0.0</td>\n",
              "      <td>1.0</td>\n",
              "      <td>1.0</td>\n",
              "      <td>0.313427</td>\n",
              "      <td>0.0</td>\n",
              "      <td>0.463886</td>\n",
              "      <td>0.804403</td>\n",
              "      <td>-1.352957</td>\n",
              "    </tr>\n",
              "    <tr>\n",
              "      <th>6</th>\n",
              "      <td>policy_sales_channel</td>\n",
              "      <td>2630.0</td>\n",
              "      <td>540165.0</td>\n",
              "      <td>537535.0</td>\n",
              "      <td>32301.524040</td>\n",
              "      <td>34034.5</td>\n",
              "      <td>19160.604775</td>\n",
              "      <td>1.920845</td>\n",
              "      <td>36.133813</td>\n",
              "    </tr>\n",
              "    <tr>\n",
              "      <th>7</th>\n",
              "      <td>vintage</td>\n",
              "      <td>10.0</td>\n",
              "      <td>299.0</td>\n",
              "      <td>289.0</td>\n",
              "      <td>154.276010</td>\n",
              "      <td>154.0</td>\n",
              "      <td>83.644379</td>\n",
              "      <td>0.001730</td>\n",
              "      <td>-1.201913</td>\n",
              "    </tr>\n",
              "    <tr>\n",
              "      <th>8</th>\n",
              "      <td>response</td>\n",
              "      <td>0.0</td>\n",
              "      <td>1.0</td>\n",
              "      <td>1.0</td>\n",
              "      <td>0.159517</td>\n",
              "      <td>0.0</td>\n",
              "      <td>0.366158</td>\n",
              "      <td>1.859780</td>\n",
              "      <td>1.458803</td>\n",
              "    </tr>\n",
              "  </tbody>\n",
              "</table>\n",
              "</div>"
            ],
            "text/plain": [
              "             attributes     min       max  ...            std       skew    kurtosis\n",
              "0                    id     2.0  381109.0  ...  110092.779601  -0.000368   -1.201831\n",
              "1                   age    45.0      85.0  ...       9.469115   0.640036   -0.649460\n",
              "2       driving_license     0.0      52.0  ...      12.310347  -0.209233   -0.407361\n",
              "3           region_code     1.0     163.0  ...      53.440006   0.200884   -1.768637\n",
              "4    previously_insured     0.0       1.0  ...       0.076609 -12.899263  164.393472\n",
              "5        annual_premium     0.0       1.0  ...       0.463886   0.804403   -1.352957\n",
              "6  policy_sales_channel  2630.0  540165.0  ...   19160.604775   1.920845   36.133813\n",
              "7               vintage    10.0     299.0  ...      83.644379   0.001730   -1.201913\n",
              "8              response     0.0       1.0  ...       0.366158   1.859780    1.458803\n",
              "\n",
              "[9 rows x 9 columns]"
            ]
          },
          "metadata": {},
          "execution_count": 12
        }
      ]
    },
    {
      "cell_type": "markdown",
      "metadata": {
        "id": "iJxc4tOQ3Uku"
      },
      "source": [
        "# Feature Engineering\n"
      ]
    },
    {
      "cell_type": "code",
      "metadata": {
        "id": "ynOTX4P58zOH"
      },
      "source": [
        "# vehicle age\n",
        "df1['vehicle_age'] =  df1['vehicle_age'].apply( lambda x: 'over_2_years' if x == '> 2 Years' else 'between_1_2_year' if x == '1-2 Year' else 'below_1_year' ) \n",
        "\n",
        "\n",
        "#vehicle_damage\n",
        "def muda_yesno(registro):\n",
        "  if registro['vehicle_damage'] == 'Yes':\n",
        "    return '1'\n",
        "  elif registro['vehicle_damage'] == 'No':\n",
        "    return '0'\n",
        "df1['vehicle_damage'] = df1.apply(muda_yesno, axis=1)"
      ],
      "execution_count": 13,
      "outputs": []
    },
    {
      "cell_type": "markdown",
      "metadata": {
        "id": "IVL0nmdQ3cGN"
      },
      "source": [
        "# EDA"
      ]
    },
    {
      "cell_type": "code",
      "metadata": {
        "id": "JfFlhrvGAkbn"
      },
      "source": [
        "df4 = df1.copy()\n"
      ],
      "execution_count": 14,
      "outputs": []
    },
    {
      "cell_type": "markdown",
      "metadata": {
        "id": "Q_10jS7v_IgS"
      },
      "source": [
        "## Univariate Analisys\n"
      ]
    },
    {
      "cell_type": "markdown",
      "metadata": {
        "id": "bsAcH3SO_M-Y"
      },
      "source": [
        "### AGE\n",
        "Pelo gráfico apresentado abaixo, podemos ver que pessoas mais jovens entre 25 a 30 anos, aproximadamente **NÃO** tem interesse em seguro.\n",
        "Já pessoas um pouco mais velha possui um interesse maior."
      ]
    },
    {
      "cell_type": "code",
      "metadata": {
        "colab": {
          "base_uri": "https://localhost:8080/",
          "height": 0
        },
        "id": "VhtRm_4x_HD6",
        "outputId": "42a93f68-dd4e-421e-e793-46b2dd731f41"
      },
      "source": [
        "sns.boxplot(x='response', y='age', data = df4);"
      ],
      "execution_count": 15,
      "outputs": [
        {
          "output_type": "display_data",
          "data": {
            "image/png": "[encoded data removed]",
            "text/plain": [
              "<Figure size 432x288 with 1 Axes>"
            ]
          },
          "metadata": {
            "needs_background": "light"
          }
        }
      ]
    },
    {
      "cell_type": "markdown",
      "metadata": {
        "id": "vVIOdhOMESR8"
      },
      "source": [
        "de acordo com o histograma apresentado abaixo, é possivel ver que realmente pessoas que tem entre 20 a 35 anos nao tem interesse em ter um seguro e que pessoas acima dessa idade sim."
      ]
    },
    {
      "cell_type": "code",
      "metadata": {
        "colab": {
          "base_uri": "https://localhost:8080/",
          "height": 0
        },
        "id": "m9fWAAVUB8XK",
        "outputId": "c4bf7e18-c054-4aa7-f516-90518bc031cb"
      },
      "source": [
        "aux00 = df4.loc[df4['response'] == 0, 'age']\n",
        "aux01 = df4.loc[df4['response'] == 1, 'age']\n",
        "plt.figure(figsize=(10,7))\n",
        "\n",
        "ax = plt.subplot(1,2,1);\n",
        "plt.title('Pessoas que Possuem Interesse ')\n",
        "sns.histplot(aux00);\n",
        "\n",
        "ax = plt.subplot(1,2,2);\n",
        "plt.title('Pessoas que Possuem NAO Interesse ')\n",
        "sns.histplot(aux01);"
      ],
      "execution_count": 16,
      "outputs": [
        {
          "output_type": "display_data",
          "data": {
            "image/png": "[encoded data removed]",
            "text/plain": [
              "<Figure size 720x504 with 2 Axes>"
            ]
          },
          "metadata": {
            "needs_background": "light"
          }
        }
      ]
    },
    {
      "cell_type": "markdown",
      "metadata": {
        "id": "rFH2Dot9FGql"
      },
      "source": [
        "### Annual Premium"
      ]
    },
    {
      "cell_type": "code",
      "metadata": {
        "colab": {
          "base_uri": "https://localhost:8080/",
          "height": 296
        },
        "id": "dfdjavIOFJ61",
        "outputId": "64a730cd-a333-42d5-8b28-f780c7ea0887"
      },
      "source": [
        "aux = df4[df4['annual_premium'] < 80000]\n",
        "sns.boxplot( x='response', y='annual_premium', data=aux )"
      ],
      "execution_count": 17,
      "outputs": [
        {
          "output_type": "execute_result",
          "data": {
            "text/plain": [
              "<matplotlib.axes._subplots.AxesSubplot at 0x7f4a81841510>"
            ]
          },
          "metadata": {},
          "execution_count": 17
        },
        {
          "output_type": "display_data",
          "data": {
            "image/png": "[encoded data removed]",
            "text/plain": [
              "<Figure size 432x288 with 1 Axes>"
            ]
          },
          "metadata": {
            "needs_background": "light"
          }
        }
      ]
    },
    {
      "cell_type": "code",
      "metadata": {
        "colab": {
          "base_uri": "https://localhost:8080/",
          "height": 432
        },
        "id": "mjsIV3naIbe6",
        "outputId": "52f22c98-02ed-470e-da75-89dbff5343e1"
      },
      "source": [
        "aux = df4[(df4['annual_premium'] > 10000) &(df4['annual_premium'] < 80000 )]\n",
        "aux01 = aux.loc[aux['response'] == 0, 'annual_premium']\n",
        "aux02 = aux.loc[aux['response'] == 1, 'annual_premium']\n",
        "plt.figure(figsize=(10,7))\n",
        "\n",
        "ax = plt.subplot(1,2,1);\n",
        "sns.histplot( aux01 );\n",
        "\n",
        "ax = plt.subplot(1,2,2);\n",
        "sns.histplot( aux02 );"
      ],
      "execution_count": 18,
      "outputs": [
        {
          "output_type": "display_data",
          "data": {
            "image/png": "[encoded data removed]",
            "text/plain": [
              "<Figure size 720x504 with 2 Axes>"
            ]
          },
          "metadata": {
            "needs_background": "light"
          }
        }
      ]
    },
    {
      "cell_type": "markdown",
      "metadata": {
        "id": "jh7QoVbwJPFZ"
      },
      "source": [
        "### Driving License"
      ]
    },
    {
      "cell_type": "markdown",
      "metadata": {
        "id": "lyUJbOZVKKWf"
      },
      "source": [
        "Como podemos ver 87% das pessoas que nao dirigem possuem licensa para dirigir, mas isso pode ter algo em comum com a idade dessas pessos, pois como já vimos, pessoas que mais jovens nao tem interesse eem ter um seguro"
      ]
    },
    {
      "cell_type": "code",
      "metadata": {
        "colab": {
          "base_uri": "https://localhost:8080/",
          "height": 0
        },
        "id": "E0rkdbq2IbYu",
        "outputId": "48d215d3-054b-486a-cf1e-889f9a92902a"
      },
      "source": [
        "aux003 = df4[['driving_license', 'response']].groupby( 'response' ).sum().reset_index()\n",
        "aux003.head()\n",
        "aux003['driving_license_perc'] = aux003['driving_license'] / aux003['driving_license'].sum()\n",
        "aux003"
      ],
      "execution_count": 19,
      "outputs": [
        {
          "output_type": "execute_result",
          "data": {
            "text/html": [
              "<div>\n",
              "<style scoped>\n",
              "    .dataframe tbody tr th:only-of-type {\n",
              "        vertical-align: middle;\n",
              "    }\n",
              "\n",
              "    .dataframe tbody tr th {\n",
              "        vertical-align: top;\n",
              "    }\n",
              "\n",
              "    .dataframe thead th {\n",
              "        text-align: right;\n",
              "    }\n",
              "</style>\n",
              "<table border=\"1\" class=\"dataframe\">\n",
              "  <thead>\n",
              "    <tr style=\"text-align: right;\">\n",
              "      <th></th>\n",
              "      <th>response</th>\n",
              "      <th>driving_license</th>\n",
              "      <th>driving_license_perc</th>\n",
              "    </tr>\n",
              "  </thead>\n",
              "  <tbody>\n",
              "    <tr>\n",
              "      <th>0</th>\n",
              "      <td>0</td>\n",
              "      <td>2994055.0</td>\n",
              "      <td>0.840869</td>\n",
              "    </tr>\n",
              "    <tr>\n",
              "      <th>1</th>\n",
              "      <td>1</td>\n",
              "      <td>566613.0</td>\n",
              "      <td>0.159131</td>\n",
              "    </tr>\n",
              "  </tbody>\n",
              "</table>\n",
              "</div>"
            ],
            "text/plain": [
              "   response  driving_license  driving_license_perc\n",
              "0         0        2994055.0              0.840869\n",
              "1         1         566613.0              0.159131"
            ]
          },
          "metadata": {},
          "execution_count": 19
        }
      ]
    },
    {
      "cell_type": "markdown",
      "metadata": {
        "id": "X7hABePgKpjd"
      },
      "source": [
        "### Region"
      ]
    },
    {
      "cell_type": "code",
      "metadata": {
        "colab": {
          "base_uri": "https://localhost:8080/",
          "height": 0
        },
        "id": "j6fubzxzJhvS",
        "outputId": "64911737-8efe-4565-8bd7-8f9e17f4eb38"
      },
      "source": [
        "aux004 = df4[['id', 'region_code', 'response']].groupby( ['region_code', 'response'] ).count().reset_index()\n",
        "\n",
        "sns.scatterplot( x='region_code', y='id', hue='response', data=aux004 );"
      ],
      "execution_count": 20,
      "outputs": [
        {
          "output_type": "display_data",
          "data": {
            "image/png": "[encoded data removed]",
            "text/plain": [
              "<Figure size 432x288 with 1 Axes>"
            ]
          },
          "metadata": {
            "needs_background": "light"
          }
        }
      ]
    },
    {
      "cell_type": "markdown",
      "metadata": {
        "id": "eBJyTXnqMtKr"
      },
      "source": [
        "### Previously Insured"
      ]
    },
    {
      "cell_type": "code",
      "metadata": {
        "colab": {
          "base_uri": "https://localhost:8080/",
          "height": 0
        },
        "id": "8ryZ7otxMtxX",
        "outputId": "0d52157a-1ed5-4df1-c85a-6f66570b5651"
      },
      "source": [
        "pd.crosstab( df4['previously_insured'], df4['response'] ).apply( lambda x: x / x.sum(), axis=1 ) "
      ],
      "execution_count": 21,
      "outputs": [
        {
          "output_type": "execute_result",
          "data": {
            "text/html": [
              "<div>\n",
              "<style scoped>\n",
              "    .dataframe tbody tr th:only-of-type {\n",
              "        vertical-align: middle;\n",
              "    }\n",
              "\n",
              "    .dataframe tbody tr th {\n",
              "        vertical-align: top;\n",
              "    }\n",
              "\n",
              "    .dataframe thead th {\n",
              "        text-align: right;\n",
              "    }\n",
              "</style>\n",
              "<table border=\"1\" class=\"dataframe\">\n",
              "  <thead>\n",
              "    <tr style=\"text-align: right;\">\n",
              "      <th>response</th>\n",
              "      <th>0</th>\n",
              "      <th>1</th>\n",
              "    </tr>\n",
              "    <tr>\n",
              "      <th>previously_insured</th>\n",
              "      <th></th>\n",
              "      <th></th>\n",
              "    </tr>\n",
              "  </thead>\n",
              "  <tbody>\n",
              "    <tr>\n",
              "      <th>0</th>\n",
              "      <td>0.949936</td>\n",
              "      <td>0.050064</td>\n",
              "    </tr>\n",
              "    <tr>\n",
              "      <th>1</th>\n",
              "      <td>0.839833</td>\n",
              "      <td>0.160167</td>\n",
              "    </tr>\n",
              "  </tbody>\n",
              "</table>\n",
              "</div>"
            ],
            "text/plain": [
              "response                   0         1\n",
              "previously_insured                    \n",
              "0                   0.949936  0.050064\n",
              "1                   0.839833  0.160167"
            ]
          },
          "metadata": {},
          "execution_count": 21
        }
      ]
    },
    {
      "cell_type": "markdown",
      "metadata": {
        "id": "iDgjVGyyREge"
      },
      "source": [
        "### Vehicle Age"
      ]
    },
    {
      "cell_type": "code",
      "metadata": {
        "colab": {
          "base_uri": "https://localhost:8080/",
          "height": 0
        },
        "id": "iGBhvM2QRDf_",
        "outputId": "c5a94095-8719-406e-cdcc-310a91911941"
      },
      "source": [
        "df4[['vehicle_age', 'response']].value_counts( normalize=True ).reset_index() "
      ],
      "execution_count": 22,
      "outputs": [
        {
          "output_type": "execute_result",
          "data": {
            "text/html": [
              "<div>\n",
              "<style scoped>\n",
              "    .dataframe tbody tr th:only-of-type {\n",
              "        vertical-align: middle;\n",
              "    }\n",
              "\n",
              "    .dataframe tbody tr th {\n",
              "        vertical-align: top;\n",
              "    }\n",
              "\n",
              "    .dataframe thead th {\n",
              "        text-align: right;\n",
              "    }\n",
              "</style>\n",
              "<table border=\"1\" class=\"dataframe\">\n",
              "  <thead>\n",
              "    <tr style=\"text-align: right;\">\n",
              "      <th></th>\n",
              "      <th>vehicle_age</th>\n",
              "      <th>response</th>\n",
              "      <th>0</th>\n",
              "    </tr>\n",
              "  </thead>\n",
              "  <tbody>\n",
              "    <tr>\n",
              "      <th>0</th>\n",
              "      <td>between_1_2_year</td>\n",
              "      <td>0</td>\n",
              "      <td>0.766643</td>\n",
              "    </tr>\n",
              "    <tr>\n",
              "      <th>1</th>\n",
              "      <td>between_1_2_year</td>\n",
              "      <td>1</td>\n",
              "      <td>0.130385</td>\n",
              "    </tr>\n",
              "    <tr>\n",
              "      <th>2</th>\n",
              "      <td>over_2_years</td>\n",
              "      <td>0</td>\n",
              "      <td>0.070869</td>\n",
              "    </tr>\n",
              "    <tr>\n",
              "      <th>3</th>\n",
              "      <td>over_2_years</td>\n",
              "      <td>1</td>\n",
              "      <td>0.028428</td>\n",
              "    </tr>\n",
              "    <tr>\n",
              "      <th>4</th>\n",
              "      <td>below_1_year</td>\n",
              "      <td>0</td>\n",
              "      <td>0.002971</td>\n",
              "    </tr>\n",
              "    <tr>\n",
              "      <th>5</th>\n",
              "      <td>below_1_year</td>\n",
              "      <td>1</td>\n",
              "      <td>0.000705</td>\n",
              "    </tr>\n",
              "  </tbody>\n",
              "</table>\n",
              "</div>"
            ],
            "text/plain": [
              "        vehicle_age  response         0\n",
              "0  between_1_2_year         0  0.766643\n",
              "1  between_1_2_year         1  0.130385\n",
              "2      over_2_years         0  0.070869\n",
              "3      over_2_years         1  0.028428\n",
              "4      below_1_year         0  0.002971\n",
              "5      below_1_year         1  0.000705"
            ]
          },
          "metadata": {},
          "execution_count": 22
        }
      ]
    },
    {
      "cell_type": "markdown",
      "metadata": {
        "id": "h3_j6fOmSWCK"
      },
      "source": [
        "### Policy Sales Channel"
      ]
    },
    {
      "cell_type": "code",
      "metadata": {
        "colab": {
          "base_uri": "https://localhost:8080/",
          "height": 631
        },
        "id": "vahVw_bsSVOr",
        "outputId": "e98e7713-119e-458d-92eb-da32fa4d694e"
      },
      "source": [
        "plt.figure( figsize=(24, 12 ))\n",
        "aux005 = df4[['policy_sales_channel', 'response']].groupby( 'policy_sales_channel').sum().reset_index()\n",
        "sns.barplot( x='response', y='policy_sales_channel', data=aux005 );"
      ],
      "execution_count": 23,
      "outputs": [
        {
          "output_type": "display_data",
          "data": {
            "image/png": "[encoded data removed]",
            "text/plain": [
              "<Figure size 1728x864 with 1 Axes>"
            ]
          },
          "metadata": {
            "needs_background": "light"
          }
        }
      ]
    },
    {
      "cell_type": "markdown",
      "metadata": {
        "id": "c0K0v8gtTRGv"
      },
      "source": [
        "### Vintage"
      ]
    },
    {
      "cell_type": "code",
      "metadata": {
        "colab": {
          "base_uri": "https://localhost:8080/",
          "height": 279
        },
        "id": "I7GYjjkATS3n",
        "outputId": "e41d2e50-d7e9-478c-a873-ce84f05fc85b"
      },
      "source": [
        "sns.boxplot( x='response', y='vintage', data=df4 );"
      ],
      "execution_count": 24,
      "outputs": [
        {
          "output_type": "display_data",
          "data": {
            "image/png": "[encoded data removed]",
            "text/plain": [
              "<Figure size 432x288 with 1 Axes>"
            ]
          },
          "metadata": {
            "needs_background": "light"
          }
        }
      ]
    },
    {
      "cell_type": "code",
      "metadata": {
        "colab": {
          "base_uri": "https://localhost:8080/",
          "height": 442
        },
        "id": "e2rgp79UUqx3",
        "outputId": "5ffadb45-a57b-4073-a98e-186718c6ef30"
      },
      "source": [
        "aux006 = df4.loc[df4['response'] == 0, 'vintage']\n",
        "aux007 = df4.loc[df4['response'] == 1, 'vintage']\n",
        "\n",
        "plt.figure(figsize=(10,7))\n",
        "\n",
        "ax = plt.subplot(1,2,1);\n",
        "sns.histplot( aux006 )\n",
        "\n",
        "ax = plt.subplot(1,2,2);\n",
        "sns.histplot( aux007 );"
      ],
      "execution_count": 25,
      "outputs": [
        {
          "output_type": "display_data",
          "data": {
            "image/png": "[encoded data removed]",
            "text/plain": [
              "<Figure size 720x504 with 2 Axes>"
            ]
          },
          "metadata": {
            "needs_background": "light"
          }
        }
      ]
    },
    {
      "cell_type": "markdown",
      "metadata": {
        "id": "C3B25CI53gbs"
      },
      "source": [
        "#Data Preparation"
      ]
    },
    {
      "cell_type": "code",
      "metadata": {
        "id": "3W9uZX6HWNS4"
      },
      "source": [
        "df5 = df4.copy() "
      ],
      "execution_count": 26,
      "outputs": []
    },
    {
      "cell_type": "code",
      "metadata": {
        "id": "LCy-oYO7f-3g"
      },
      "source": [
        "# Spliting Data into Train and Validation\n",
        "X = df5.drop('response', axis=1)\n",
        "y = df5['response'].copy()\n",
        "\n",
        "x_train, x_validation, y_train, y_validation = ms.train_test_split(X, y, test_size=0.25, random_state=2)\n",
        "\n",
        "df5 = pd.concat([x_train, y_train], axis=1)"
      ],
      "execution_count": 27,
      "outputs": []
    },
    {
      "cell_type": "markdown",
      "metadata": {
        "id": "PfMG7Pn8WZpY"
      },
      "source": [
        "## Standardization\n"
      ]
    },
    {
      "cell_type": "code",
      "metadata": {
        "id": "Eo_e5qVsWNNe"
      },
      "source": [
        "# annual_premium\n",
        "ss = pp.StandardScaler()\n",
        "\n",
        "df5['annual_premium'] = ss.fit_transform(df5[['annual_premium']].values)\n",
        "##pickle.dump(ss, open('/home/kazu/Repos/pa004_health_insurance_cross_sell/src/features/annual_premium_scaler.pkl', 'wb'))"
      ],
      "execution_count": 28,
      "outputs": []
    },
    {
      "cell_type": "markdown",
      "metadata": {
        "id": "6SZ0BWW5Wlfz"
      },
      "source": [
        "## Rescaling"
      ]
    },
    {
      "cell_type": "code",
      "metadata": {
        "id": "4uPK_DD9WNJp"
      },
      "source": [
        "# age\n",
        "mms_age = pp.MinMaxScaler()\n",
        "df5['age'] = mms_age.fit_transform(df5[['age']].values)\n",
        "#pickle.dump(mms_age, open('/home/kazu/Repos/pa004_health_insurance_cross_sell/src/features/age_scaler.pkl', 'wb'))\n",
        " \n",
        "# vintage\n",
        "mms_vintage = pp.MinMaxScaler()\n",
        "df5['vintage'] = mms_vintage.fit_transform(df5[['vintage']].values)\n",
        "#pickle.dump(mms_vintage, open('/home/kazu/Repos/pa004_health_insurance_cross_sell/src/features/vintage_scaler.pkl', 'wb'))\n"
      ],
      "execution_count": 29,
      "outputs": []
    },
    {
      "cell_type": "markdown",
      "metadata": {
        "id": "7y_bVBf1hq-l"
      },
      "source": [
        "## Frequency Encoder"
      ]
    },
    {
      "cell_type": "code",
      "metadata": {
        "id": "uXKXt5ZlhZlJ"
      },
      "source": [
        "# policy_sales_channel - **Frequency Encoding**\n",
        "fe_policy_sales_channel = df5.groupby('policy_sales_channel').size() / len(df5)\n",
        "df5['policy_sales_channel'] = df5['policy_sales_channel'].map(fe_policy_sales_channel)\n",
        "#pickle.dump(fe_policy_sales_channel, open('/home/kazu/Repos/pa004_health_insurance_cross_sell/src/features/policy_sales_channel_scaler.pkl', 'wb'))\n",
        "\n"
      ],
      "execution_count": 30,
      "outputs": []
    },
    {
      "cell_type": "markdown",
      "metadata": {
        "id": "DeDzl4xyW2rA"
      },
      "source": [
        "## Encoder"
      ]
    },
    {
      "cell_type": "code",
      "metadata": {
        "id": "1usAg6iLgiv9"
      },
      "source": [
        "# gender - **One Hot Encoding**\n",
        "ohc_gender = pp.OneHotEncoder()\n",
        "df5['gender_Female'] = ohc_gender.fit_transform(df5[['gender']]).toarray()[:,0]\n",
        "df5['gender_Male'] = ohc_gender.fit_transform(df5[['gender']]).toarray()[:,1]\n",
        "df5.drop(columns='gender', inplace=True)\n",
        "#pickle.dump(ohc_gender, open('/home/kazu/Repos/pa004_health_insurance_cross_sell/src/features/ohc_gender_scaler.pkl', 'wb'))\n",
        "\n",
        "# vehicle_age - **One Hot Encoding**\n",
        "ohc_vehicle_age = pp.OneHotEncoder()\n",
        "df5['vehicle_age_1-2 Year'] = ohc_vehicle_age.fit_transform(df5[['vehicle_age']]).toarray()[:,0]\n",
        "df5['vehicle_age_< 1 Year'] = ohc_vehicle_age.fit_transform(df5[['vehicle_age']]).toarray()[:,1]\n",
        "df5['vehicle_age_> 2 Years'] = ohc_vehicle_age.fit_transform(df5[['vehicle_age']]).toarray()[:,2]\n",
        "df5.drop(columns='vehicle_age', inplace=True)\n",
        "#pickle.dump(ohc_vehicle_age, open('/home/kazu/Repos/pa004_health_insurance_cross_sell/src/features/ohc_vehicle_age_scaler.pkl', 'wb'))\n",
        "\n",
        "# vehicle_damage **One Hot Encoding**\n",
        "ohc_vehicle_damage = pp.OneHotEncoder()\n",
        "df5['vehicle_damage_No'] = ohc_vehicle_damage.fit_transform(df5[['vehicle_damage']]).toarray()[:,0]\n",
        "df5['vehicle_damage_Yes'] = ohc_vehicle_damage.fit_transform(df5[['vehicle_damage']]).toarray()[:,1]\n",
        "df5.drop(columns='vehicle_damage', inplace=True)\n",
        "#pickle.dump(ohc_vehicle_damage, open('/home/kazu/Repos/pa004_health_insurance_cross_sell/src/features/ohc_vehicle_damage_scaler.pkl', 'wb'))\n",
        "\n",
        "# region_code - **Target Encoding**\n",
        "target_encode_region_code = df5.groupby('region_code')['response'].mean()\n",
        "df5['region_code'] = df5['region_code'].map(target_encode_region_code)\n",
        "#pickle.dump(target_encode_region_code, open('/home/kazu/Repos/pa004_health_insurance_cross_sell/src/features/region_code_scaler.pkl', 'wb'))"
      ],
      "execution_count": 31,
      "outputs": []
    },
    {
      "cell_type": "markdown",
      "metadata": {
        "id": "LHbgju-Nin4J"
      },
      "source": [
        "## Validation Preparation"
      ]
    },
    {
      "cell_type": "code",
      "metadata": {
        "colab": {
          "base_uri": "https://localhost:8080/"
        },
        "id": "_c8kc3k1il7s",
        "outputId": "668282ce-ab22-4850-8ed8-51156e9baee1"
      },
      "source": [
        "# annual_premium\n",
        "x_validation['annual_premium'] = ss.transform(x_validation[['annual_premium']].values)\n",
        "\n",
        "# age\n",
        "x_validation['age'] = mms_age.transform(x_validation[['age']].values)\n",
        "\n",
        "# vintage\n",
        "x_validation['vintage'] = mms_vintage.transform(x_validation[['vintage']].values)\n",
        "\n",
        "# gender - **One Hot Encoding**\n",
        "x_validation['gender_Female'] = ohc_gender.transform(x_validation[['gender']]).toarray()[:,0]\n",
        "x_validation['gender_Male'] = ohc_gender.transform(x_validation[['gender']]).toarray()[:,1]\n",
        "x_validation.drop(columns='gender', inplace=True)\n",
        "\n",
        "# driving_license - already encoded (0 /1)\n",
        "\n",
        "# region_code - Frequency Encoding or **Target Encoding**\n",
        "x_validation['region_code'] = x_validation['region_code'].map(target_encode_region_code)\n",
        "\n",
        "# # previously_insured - already encoded (0 /1)\n",
        "\n",
        "# vehicle_age - **One Hot Encoding** / Frequency Encoding / Order Encoding\n",
        "x_validation['vehicle_age_1-2 Year'] = ohc_vehicle_age.transform(x_validation[['vehicle_age']]).toarray()[:,0]\n",
        "x_validation['vehicle_age_< 1 Year'] = ohc_vehicle_age.transform(x_validation[['vehicle_age']]).toarray()[:,1]\n",
        "x_validation['vehicle_age_> 2 Years'] = ohc_vehicle_age.transform(x_validation[['vehicle_age']]).toarray()[:,2]\n",
        "x_validation.drop(columns='vehicle_age', inplace=True)\n",
        "\n",
        "# vehicle_damage **One Hot Encoding** / Frequency Encoding / Order Encoding\n",
        "x_validation['vehicle_damage_No'] = ohc_vehicle_damage.transform(x_validation[['vehicle_damage']]).toarray()[:,0]\n",
        "x_validation['vehicle_damage_Yes'] = ohc_vehicle_damage.transform(x_validation[['vehicle_damage']]).toarray()[:,1]\n",
        "x_validation.drop(columns='vehicle_damage', inplace=True)\n",
        "\n",
        "\n",
        "# policy_sales_channel - Target Encoding / **Frequency Encoding**\n",
        "x_validation['policy_sales_channel'] = x_validation['policy_sales_channel'].map(fe_policy_sales_channel)\n",
        "x_validation['policy_sales_channel'].fillna(df5['policy_sales_channel'].min(), inplace=True)\n",
        "\n",
        "x_validation = x_validation.fillna(0)"
      ],
      "execution_count": 32,
      "outputs": [
        {
          "output_type": "stream",
          "name": "stderr",
          "text": [
            "/usr/local/lib/python3.7/dist-packages/ipykernel_launcher.py:2: SettingWithCopyWarning: \n",
            "A value is trying to be set on a copy of a slice from a DataFrame.\n",
            "Try using .loc[row_indexer,col_indexer] = value instead\n",
            "\n",
            "See the caveats in the documentation: https://pandas.pydata.org/pandas-docs/stable/user_guide/indexing.html#returning-a-view-versus-a-copy\n",
            "  \n",
            "/usr/local/lib/python3.7/dist-packages/ipykernel_launcher.py:5: SettingWithCopyWarning: \n",
            "A value is trying to be set on a copy of a slice from a DataFrame.\n",
            "Try using .loc[row_indexer,col_indexer] = value instead\n",
            "\n",
            "See the caveats in the documentation: https://pandas.pydata.org/pandas-docs/stable/user_guide/indexing.html#returning-a-view-versus-a-copy\n",
            "  \"\"\"\n",
            "/usr/local/lib/python3.7/dist-packages/ipykernel_launcher.py:8: SettingWithCopyWarning: \n",
            "A value is trying to be set on a copy of a slice from a DataFrame.\n",
            "Try using .loc[row_indexer,col_indexer] = value instead\n",
            "\n",
            "See the caveats in the documentation: https://pandas.pydata.org/pandas-docs/stable/user_guide/indexing.html#returning-a-view-versus-a-copy\n",
            "  \n",
            "/usr/local/lib/python3.7/dist-packages/ipykernel_launcher.py:11: SettingWithCopyWarning: \n",
            "A value is trying to be set on a copy of a slice from a DataFrame.\n",
            "Try using .loc[row_indexer,col_indexer] = value instead\n",
            "\n",
            "See the caveats in the documentation: https://pandas.pydata.org/pandas-docs/stable/user_guide/indexing.html#returning-a-view-versus-a-copy\n",
            "  # This is added back by InteractiveShellApp.init_path()\n",
            "/usr/local/lib/python3.7/dist-packages/ipykernel_launcher.py:12: SettingWithCopyWarning: \n",
            "A value is trying to be set on a copy of a slice from a DataFrame.\n",
            "Try using .loc[row_indexer,col_indexer] = value instead\n",
            "\n",
            "See the caveats in the documentation: https://pandas.pydata.org/pandas-docs/stable/user_guide/indexing.html#returning-a-view-versus-a-copy\n",
            "  if sys.path[0] == '':\n",
            "/usr/local/lib/python3.7/dist-packages/pandas/core/frame.py:4174: SettingWithCopyWarning: \n",
            "A value is trying to be set on a copy of a slice from a DataFrame\n",
            "\n",
            "See the caveats in the documentation: https://pandas.pydata.org/pandas-docs/stable/user_guide/indexing.html#returning-a-view-versus-a-copy\n",
            "  errors=errors,\n",
            "/usr/local/lib/python3.7/dist-packages/ipykernel_launcher.py:18: SettingWithCopyWarning: \n",
            "A value is trying to be set on a copy of a slice from a DataFrame.\n",
            "Try using .loc[row_indexer,col_indexer] = value instead\n",
            "\n",
            "See the caveats in the documentation: https://pandas.pydata.org/pandas-docs/stable/user_guide/indexing.html#returning-a-view-versus-a-copy\n",
            "/usr/local/lib/python3.7/dist-packages/ipykernel_launcher.py:23: SettingWithCopyWarning: \n",
            "A value is trying to be set on a copy of a slice from a DataFrame.\n",
            "Try using .loc[row_indexer,col_indexer] = value instead\n",
            "\n",
            "See the caveats in the documentation: https://pandas.pydata.org/pandas-docs/stable/user_guide/indexing.html#returning-a-view-versus-a-copy\n",
            "/usr/local/lib/python3.7/dist-packages/ipykernel_launcher.py:24: SettingWithCopyWarning: \n",
            "A value is trying to be set on a copy of a slice from a DataFrame.\n",
            "Try using .loc[row_indexer,col_indexer] = value instead\n",
            "\n",
            "See the caveats in the documentation: https://pandas.pydata.org/pandas-docs/stable/user_guide/indexing.html#returning-a-view-versus-a-copy\n",
            "/usr/local/lib/python3.7/dist-packages/ipykernel_launcher.py:25: SettingWithCopyWarning: \n",
            "A value is trying to be set on a copy of a slice from a DataFrame.\n",
            "Try using .loc[row_indexer,col_indexer] = value instead\n",
            "\n",
            "See the caveats in the documentation: https://pandas.pydata.org/pandas-docs/stable/user_guide/indexing.html#returning-a-view-versus-a-copy\n",
            "/usr/local/lib/python3.7/dist-packages/pandas/core/frame.py:4174: SettingWithCopyWarning: \n",
            "A value is trying to be set on a copy of a slice from a DataFrame\n",
            "\n",
            "See the caveats in the documentation: https://pandas.pydata.org/pandas-docs/stable/user_guide/indexing.html#returning-a-view-versus-a-copy\n",
            "  errors=errors,\n",
            "/usr/local/lib/python3.7/dist-packages/ipykernel_launcher.py:29: SettingWithCopyWarning: \n",
            "A value is trying to be set on a copy of a slice from a DataFrame.\n",
            "Try using .loc[row_indexer,col_indexer] = value instead\n",
            "\n",
            "See the caveats in the documentation: https://pandas.pydata.org/pandas-docs/stable/user_guide/indexing.html#returning-a-view-versus-a-copy\n",
            "/usr/local/lib/python3.7/dist-packages/ipykernel_launcher.py:30: SettingWithCopyWarning: \n",
            "A value is trying to be set on a copy of a slice from a DataFrame.\n",
            "Try using .loc[row_indexer,col_indexer] = value instead\n",
            "\n",
            "See the caveats in the documentation: https://pandas.pydata.org/pandas-docs/stable/user_guide/indexing.html#returning-a-view-versus-a-copy\n",
            "/usr/local/lib/python3.7/dist-packages/pandas/core/frame.py:4174: SettingWithCopyWarning: \n",
            "A value is trying to be set on a copy of a slice from a DataFrame\n",
            "\n",
            "See the caveats in the documentation: https://pandas.pydata.org/pandas-docs/stable/user_guide/indexing.html#returning-a-view-versus-a-copy\n",
            "  errors=errors,\n",
            "/usr/local/lib/python3.7/dist-packages/ipykernel_launcher.py:35: SettingWithCopyWarning: \n",
            "A value is trying to be set on a copy of a slice from a DataFrame.\n",
            "Try using .loc[row_indexer,col_indexer] = value instead\n",
            "\n",
            "See the caveats in the documentation: https://pandas.pydata.org/pandas-docs/stable/user_guide/indexing.html#returning-a-view-versus-a-copy\n",
            "/usr/local/lib/python3.7/dist-packages/pandas/core/series.py:4536: SettingWithCopyWarning: \n",
            "A value is trying to be set on a copy of a slice from a DataFrame\n",
            "\n",
            "See the caveats in the documentation: https://pandas.pydata.org/pandas-docs/stable/user_guide/indexing.html#returning-a-view-versus-a-copy\n",
            "  downcast=downcast,\n"
          ]
        }
      ]
    },
    {
      "cell_type": "markdown",
      "metadata": {
        "id": "htrbG-dk3dVI"
      },
      "source": [
        "## Feature Selection"
      ]
    },
    {
      "cell_type": "code",
      "metadata": {
        "id": "jlDvWIhiVbpl"
      },
      "source": [
        "df6 = df5.copy()"
      ],
      "execution_count": 33,
      "outputs": []
    },
    {
      "cell_type": "code",
      "metadata": {
        "colab": {
          "base_uri": "https://localhost:8080/",
          "height": 608
        },
        "id": "UXVbZFHDVbnS",
        "outputId": "5685d17d-5a9f-48dd-dea7-89e55e4575da"
      },
      "source": [
        " # model definition - extra trees\n",
        "forest = en.ExtraTreesClassifier(n_estimators=250, random_state=42, n_jobs=-1)\n",
        "\n",
        "# data preparation\n",
        "x_train_n = df6.drop(['id', 'response'], axis=1)\n",
        "y_train_n = y_train.values\n",
        "forest.fit(x_train_n, y_train_n)\n",
        "\n",
        "importances = forest.feature_importances_\n",
        "std = np.std([tree.feature_importances_ for tree in forest.estimators_], axis=1)\n",
        "indices = np.argsort(importances)[::-1]\n",
        "\n",
        "# print the feature ranking\n",
        "print('Feature ranking:')\n",
        "df = pd.DataFrame()\n",
        "\n",
        "for i, j in zip(x_train_n, forest.feature_importances_):\n",
        "    aux = pd.DataFrame({'feature': i, 'importance': j}, index=[0])\n",
        "    df = pd.concat([df, aux], axis=0)\n",
        "    \n",
        "print(df.sort_values('importance', ascending=False))\n",
        "\n",
        "# Plot the impurity-based feature importances of the forest\n",
        "plt.figure(figsize=(15,5))\n",
        "plt.title('Feature Importances')\n",
        "plt.bar(range(x_train_n.shape[1]), importances[indices], color='r', yerr=std[indices], align='center')\n",
        "plt.xticks(range(x_train_n.shape[1]), indices)\n",
        "plt.xlim([-1, x_train_n.shape[1]])\n",
        "plt.show()"
      ],
      "execution_count": 34,
      "outputs": [
        {
          "output_type": "stream",
          "name": "stdout",
          "text": [
            "Feature ranking:\n",
            "                 feature  importance\n",
            "0                vintage    0.382573\n",
            "0                    age    0.155855\n",
            "0        driving_license    0.121492\n",
            "0   policy_sales_channel    0.117927\n",
            "0            region_code    0.110736\n",
            "0      vehicle_damage_No    0.038762\n",
            "0     vehicle_damage_Yes    0.033419\n",
            "0         annual_premium    0.029357\n",
            "0  vehicle_age_> 2 Years    0.003443\n",
            "0   vehicle_age_< 1 Year    0.003278\n",
            "0            gender_Male    0.000977\n",
            "0          gender_Female    0.000892\n",
            "0     previously_insured    0.000851\n",
            "0   vehicle_age_1-2 Year    0.000440\n"
          ]
        },
        {
          "output_type": "display_data",
          "data": {
            "image/png": "[encoded data removed]",
            "text/plain": [
              "<Figure size 1080x360 with 1 Axes>"
            ]
          },
          "metadata": {
            "needs_background": "light"
          }
        }
      ]
    },
    {
      "cell_type": "markdown",
      "metadata": {
        "id": "vGNGJJ-s3irh"
      },
      "source": [
        "##Machine Learning"
      ]
    },
    {
      "cell_type": "code",
      "metadata": {
        "id": "SAkVVQSjVbki"
      },
      "source": [
        "cols_selected = ['vintage',\n",
        "                 'annual_premium',\n",
        "                 'age',\n",
        "                 'vehicle_damage_Yes',\n",
        "                 'policy_sales_channel',\n",
        "                 'previously_insured',\n",
        "                 'region_code',\n",
        "                 'vehicle_age_< 1 Year',\n",
        "                 'gender_Male']\n",
        "x_train = df6[cols_selected]\n",
        "x_val = x_validation[cols_selected]"
      ],
      "execution_count": 35,
      "outputs": []
    },
    {
      "cell_type": "markdown",
      "metadata": {
        "id": "1YKYelqmYp-C"
      },
      "source": [
        "## KNN Model"
      ]
    },
    {
      "cell_type": "code",
      "metadata": {
        "colab": {
          "base_uri": "https://localhost:8080/"
        },
        "id": "rzIgsFXDu51_",
        "outputId": "30899db0-4432-4010-f497-0f3414fea22f"
      },
      "source": [
        "x_val.isna().sum()"
      ],
      "execution_count": 36,
      "outputs": [
        {
          "output_type": "execute_result",
          "data": {
            "text/plain": [
              "vintage                 0\n",
              "annual_premium          0\n",
              "age                     0\n",
              "vehicle_damage_Yes      0\n",
              "policy_sales_channel    0\n",
              "previously_insured      0\n",
              "region_code             0\n",
              "vehicle_age_< 1 Year    0\n",
              "gender_Male             0\n",
              "dtype: int64"
            ]
          },
          "metadata": {},
          "execution_count": 36
        }
      ]
    },
    {
      "cell_type": "code",
      "metadata": {
        "id": "tC6ARDtRV0kx",
        "colab": {
          "base_uri": "https://localhost:8080/",
          "height": 355
        },
        "outputId": "546b6450-dc47-4b76-a86b-6670404181ce"
      },
      "source": [
        "knn = nh.KNeighborsClassifier(n_neighbors=9)\n",
        "knn.fit(x_train, y_train)\n",
        "pred_proba_knn = knn.predict_proba(x_val)\n",
        "\n",
        "\n",
        "fig, axs = plt.subplots(ncols= 3, figsize = (18,5))\n",
        "\n",
        "# cumulative gain - Metric for sorting problem\n",
        "skplt.metrics.plot_cumulative_gain(y_validation, pred_proba_knn, ax=axs[0],title='Cumulative Gain - KNN');\n",
        "\n",
        "# Lift Curve\n",
        "skplt.metrics.plot_lift_curve(y_validation, pred_proba_knn,ax=axs[1],title='Lift Curve - KNN');\n",
        "\n",
        "# Roc Curve\n",
        "skplt.metrics.plot_roc(y_validation, pred_proba_knn, ax=axs[2], title='ROC-Curve - KNN');\n",
        "\n",
        "plt.tight_layout()"
      ],
      "execution_count": 37,
      "outputs": [
        {
          "output_type": "display_data",
          "data": {
            "image/png": "[encoded data removed]",
            "text/plain": [
              "<Figure size 1296x360 with 3 Axes>"
            ]
          },
          "metadata": {
            "needs_background": "light"
          }
        }
      ]
    },
    {
      "cell_type": "markdown",
      "metadata": {
        "id": "H0asUwHZbAQ7"
      },
      "source": [
        "## Naive Bayes"
      ]
    },
    {
      "cell_type": "code",
      "metadata": {
        "id": "lpS28Adnljv1",
        "colab": {
          "base_uri": "https://localhost:8080/",
          "height": 355
        },
        "outputId": "95f2c454-d96f-4d09-eed2-847d233ca4ea"
      },
      "source": [
        "naive = GaussianNB()\n",
        "naive.fit(x_train, y_train)\n",
        "pred_proba_naive = naive.predict_proba(x_val)\n",
        "\n",
        "\n",
        "fig, axs = plt.subplots(ncols= 3, figsize = (18,5))\n",
        "\n",
        "# cumulative gain - Metric for sorting problem\n",
        "skplt.metrics.plot_cumulative_gain(y_validation, pred_proba_naive, ax=axs[0],title='Cumulative Gain - Naive Bayes');\n",
        "\n",
        "# Lift Curve\n",
        "skplt.metrics.plot_lift_curve(y_validation, pred_proba_naive,ax=axs[1],title='Lift Curve - Naive Bayes');\n",
        "\n",
        "# Roc Curve\n",
        "skplt.metrics.plot_roc(y_validation, pred_proba_naive, ax=axs[2], title='ROC-Curve - Naive Bayes');\n",
        "\n",
        "plt.tight_layout()"
      ],
      "execution_count": 38,
      "outputs": [
        {
          "output_type": "display_data",
          "data": {
            "image/png": "[encoded data removed]",
            "text/plain": [
              "<Figure size 1296x360 with 3 Axes>"
            ]
          },
          "metadata": {
            "needs_background": "light"
          }
        }
      ]
    },
    {
      "cell_type": "markdown",
      "metadata": {
        "id": "v5dd9N3Yl1to"
      },
      "source": [
        "# Model Performance"
      ]
    },
    {
      "cell_type": "code",
      "metadata": {
        "id": "64j0q7nhmH3Z"
      },
      "source": [
        "df7 = df6.copy()"
      ],
      "execution_count": 39,
      "outputs": []
    },
    {
      "cell_type": "code",
      "metadata": {
        "id": "U_XG11Sfl4sd"
      },
      "source": [
        "# Copy data\n",
        "df7_val = x_validation.copy()\n",
        "df7_val = df7_val[cols_selected]\n",
        "df7_val['response'] = y_validation.copy()"
      ],
      "execution_count": 40,
      "outputs": []
    },
    {
      "cell_type": "code",
      "metadata": {
        "colab": {
          "base_uri": "https://localhost:8080/",
          "height": 111
        },
        "id": "l6QA3zwBmSsV",
        "outputId": "1e3e2af5-87e6-441c-af9d-9ecd6125f10f"
      },
      "source": [
        "# dictionary with trained models\n",
        "models = {'KNN': knn,\n",
        "          'Naive Bayes': naive,\n",
        "}\n",
        "\n",
        "# Calculating Precision and Recall At k = 5,000\n",
        "k = 5000\n",
        "model_metrics = {}\n",
        "for key in models.keys():\n",
        "    df_scored = prediction_score(models[key], df7_val)\n",
        "    model_metrics[key] = [df_scored.loc[k, 'precision_at_k'], df_scored.loc[k, 'recall_at_k']]\n",
        "\n",
        "pd.DataFrame(model_metrics, index=['precision_at_k', 'recall_at_k']).T"
      ],
      "execution_count": 41,
      "outputs": [
        {
          "output_type": "execute_result",
          "data": {
            "text/html": [
              "<div>\n",
              "<style scoped>\n",
              "    .dataframe tbody tr th:only-of-type {\n",
              "        vertical-align: middle;\n",
              "    }\n",
              "\n",
              "    .dataframe tbody tr th {\n",
              "        vertical-align: top;\n",
              "    }\n",
              "\n",
              "    .dataframe thead th {\n",
              "        text-align: right;\n",
              "    }\n",
              "</style>\n",
              "<table border=\"1\" class=\"dataframe\">\n",
              "  <thead>\n",
              "    <tr style=\"text-align: right;\">\n",
              "      <th></th>\n",
              "      <th>precision_at_k</th>\n",
              "      <th>recall_at_k</th>\n",
              "    </tr>\n",
              "  </thead>\n",
              "  <tbody>\n",
              "    <tr>\n",
              "      <th>KNN</th>\n",
              "      <td>0.305539</td>\n",
              "      <td>0.291770</td>\n",
              "    </tr>\n",
              "    <tr>\n",
              "      <th>Naive Bayes</th>\n",
              "      <td>0.309538</td>\n",
              "      <td>0.295589</td>\n",
              "    </tr>\n",
              "  </tbody>\n",
              "</table>\n",
              "</div>"
            ],
            "text/plain": [
              "             precision_at_k  recall_at_k\n",
              "KNN                0.305539     0.291770\n",
              "Naive Bayes        0.309538     0.295589"
            ]
          },
          "metadata": {},
          "execution_count": 41
        }
      ]
    },
    {
      "cell_type": "markdown",
      "metadata": {
        "id": "AvkKfKS8nKAi"
      },
      "source": [
        "#Performance on Cross Validation"
      ]
    },
    {
      "cell_type": "code",
      "metadata": {
        "colab": {
          "base_uri": "https://localhost:8080/",
          "height": 111
        },
        "id": "sdN6HOHpnNBh",
        "outputId": "5b335237-9029-4b90-ad88-aed9d3c9157f"
      },
      "source": [
        "# Concatenation train and validation dataset to use in cross-validation\n",
        "df_cv = x_train.copy()\n",
        "df_cv['response'] = y_train\n",
        "\n",
        "df_aux = x_val.copy()\n",
        "df_aux['response'] = y_validation\n",
        "\n",
        "df_cv = pd.concat([df_cv, df_aux])\n",
        "\n",
        "# Cross-validated models performance\n",
        "model_performance = pd.DataFrame()\n",
        "for key in models.keys():\n",
        "    performance_cv = cross_validation(5, key, models[key], df_cv, 5000)\n",
        "    model_performance = pd.concat([model_performance, performance_cv], axis=1)\n",
        "\n",
        "model_performance.T"
      ],
      "execution_count": 42,
      "outputs": [
        {
          "output_type": "execute_result",
          "data": {
            "text/html": [
              "<div>\n",
              "<style scoped>\n",
              "    .dataframe tbody tr th:only-of-type {\n",
              "        vertical-align: middle;\n",
              "    }\n",
              "\n",
              "    .dataframe tbody tr th {\n",
              "        vertical-align: top;\n",
              "    }\n",
              "\n",
              "    .dataframe thead th {\n",
              "        text-align: right;\n",
              "    }\n",
              "</style>\n",
              "<table border=\"1\" class=\"dataframe\">\n",
              "  <thead>\n",
              "    <tr style=\"text-align: right;\">\n",
              "      <th></th>\n",
              "      <th>precision_at_k</th>\n",
              "      <th>std_precision</th>\n",
              "      <th>recall_at_k</th>\n",
              "      <th>std_recall</th>\n",
              "    </tr>\n",
              "  </thead>\n",
              "  <tbody>\n",
              "    <tr>\n",
              "      <th>KNN</th>\n",
              "      <td>0.3023</td>\n",
              "      <td>+/-0.0036</td>\n",
              "      <td>0.3591</td>\n",
              "      <td>+/- 0.0043</td>\n",
              "    </tr>\n",
              "    <tr>\n",
              "      <th>Naive Bayes</th>\n",
              "      <td>0.315</td>\n",
              "      <td>+/-0.0016</td>\n",
              "      <td>0.3742</td>\n",
              "      <td>+/- 0.0019</td>\n",
              "    </tr>\n",
              "  </tbody>\n",
              "</table>\n",
              "</div>"
            ],
            "text/plain": [
              "            precision_at_k std_precision recall_at_k   std_recall\n",
              "KNN                 0.3023     +/-0.0036      0.3591   +/- 0.0043\n",
              "Naive Bayes          0.315     +/-0.0016      0.3742   +/- 0.0019"
            ]
          },
          "metadata": {},
          "execution_count": 42
        }
      ]
    }
  ]
}